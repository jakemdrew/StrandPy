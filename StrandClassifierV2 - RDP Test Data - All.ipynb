{
 "cells": [
  {
   "cell_type": "markdown",
   "metadata": {},
   "source": [
    "### Strand Classifier Using one Minhash Function\n",
    "* A single threaded implementation of Strand as a SciKit Estimator using **only one** hashing functions. \n",
    "\n",
    "**This notebook shows performance differences using:**\n",
    "* A single minhash function.\n",
    "* Stratified Cross Validation using only one fold with an 80 / 20 split.\n",
    "* 10-fold Stratified Cross Validation using 90 / 10 splits.\n",
    "* Total classes: 64\n",
    "* Longest sequence in file: 1,834  \n",
    "* File Sequence Count: 4,786\n",
    "* Input file size of 14,365 KB\n",
    "\n",
    "**Observations:**\n",
    "* 1-fold stratified cv @ 80 / 20 splits and (kmer_length=31, minhash_length=100) = 4.09 sec, 99.3% Accuracy\n",
    "* 1-fold stratified cv @ 80 / 20 splits and (kmer_length=60, minhash_length=100) = 4.08 sec, 99.2% Accuracy \n",
    "* 10-Fold stratified cv @ 90 / 10 splits and (kmer_length=31, minhash_length=100) = 11.6 sec, 99.5% Accuracy "
   ]
  },
  {
   "cell_type": "code",
   "execution_count": 17,
   "metadata": {},
   "outputs": [],
   "source": [
    "import numpy as np\n",
    "from sys import maxsize\n",
    "from sklearn.base import BaseEstimator, ClassifierMixin, TransformerMixin\n",
    "from sklearn.utils.validation import check_X_y, check_array, check_is_fitted, check_random_state\n",
    "from sklearn.utils.multiclass import unique_labels"
   ]
  },
  {
   "cell_type": "code",
   "execution_count": 18,
   "metadata": {},
   "outputs": [],
   "source": [
    "# Created by Jake Drew on 03/16/2020\n",
    "# All rights reserved - 03/2020\n",
    "class StrandClassifierV2(BaseEstimator, ClassifierMixin):\n",
    "    \"\"\"\n",
    "    Parameters\n",
    "    ----------\n",
    "    X_ : ndarray, shape (n_samples, n_features)\n",
    "         The input passed during :meth:`fit`.\n",
    "    y_ : ndarray, shape (n_samples,)\n",
    "         The labels passed during :meth:`fit`.\n",
    "    classes_ : ndarray, shape (n_classes,)\n",
    "              The classes seen at :meth:`fit`.\n",
    "    kmer_length : integer, breaking the gene sequence into chunks of this length  \n",
    "    minhash_length: integer, the number of minhash values to be included in the minhash signature. \n",
    "                    Longer minhash signatures approximate Jaccard Similarity more accurately and take \n",
    "                    more time to create. The total number of randomly seeded hashing functions is \n",
    "                    also controlled by the value in minhash_length.\n",
    "    minhash_store_ : dict() array, shape (minhash_length), key == minhash int, value = category array int\n",
    "                      Partitions unique minhash values and category associations by hash function.\n",
    "    \"\"\"\n",
    "    def __init__(self, kmer_length=20, minhash_length=100, random_state=None):\n",
    "        self.kmer_length = kmer_length\n",
    "        self.random_state = random_state\n",
    "        self.minhash_length = minhash_length\n",
    "        \n",
    "    def fit(self, X, y):\n",
    "        \"\"\"\n",
    "        Parameters\n",
    "        ----------\n",
    "        X : array-like, shape (n_samples, n_features)\n",
    "            The training input samples.\n",
    "        y : array-like, shape (n_samples,)\n",
    "            The target values. An array of int.\n",
    "        Returns\n",
    "        -------\n",
    "        self : object\n",
    "            Returns self.\n",
    "        \"\"\"\n",
    "        self.random_state_ = check_random_state(self.random_state)\n",
    "        \n",
    "        # Check that X and y have correct shape\n",
    "        X, y = check_X_y(X, y, ensure_2d=False, dtype=None)\n",
    "        \n",
    "        # Store the classes seen during fit\n",
    "        self.classes_ = unique_labels(y)\n",
    "        \n",
    "        # Store the training data (X) and targets (y) used to fit the model\n",
    "        self.X_ = X\n",
    "        self.y_ = y\n",
    "        \n",
    "        # Store the minhash values and respective categories\n",
    "        self.minhash_store_ = dict()\n",
    "        \n",
    "        # Train the model for X and y\n",
    "        for sequence, category in zip(X, y):   \n",
    "            # Create minhash signatures for each sequence\n",
    "            signature = self.create_minhash_signature(sequence)\n",
    "            # Store minhash values and respective categories to minhash_store_ partitioned by hash function \n",
    "            self.add_signature_to_minhash_store(category, signature)\n",
    "            \n",
    "        # Return the classifier\n",
    "        return self\n",
    "\n",
    "    def predict(self, X):\n",
    "        \"\"\"\n",
    "        Parameters\n",
    "        ----------\n",
    "        X : array-like, shape (n_samples, n_features)\n",
    "            The input samples.\n",
    "        Returns\n",
    "        -------\n",
    "        y : ndarray, shape (n_samples,)\n",
    "            The label for each sample is the label of the closest sample\n",
    "            seen during fit.\n",
    "        \"\"\"\n",
    "        # Check is fit had been called\n",
    "        check_is_fitted(self, ['X_', 'y_'])\n",
    "\n",
    "        # Input validation\n",
    "        X = check_array(X, ensure_2d=False, dtype=None)\n",
    "        \n",
    "        yhats = []\n",
    "        for sequence in X:\n",
    "            # Create a minhash signature from the sequence X\n",
    "            signature = self.create_minhash_signature(sequence)\n",
    "            # Score all categories using the minhash signature  \n",
    "            category_stores = self.get_category_scores(signature)\n",
    "            #Get the first category with the highest score\n",
    "            winning_category = max(category_stores, key=category_stores.get)\n",
    "            #Add to our predictions\n",
    "            yhats.append(winning_category)\n",
    "        \n",
    "        return yhats\n",
    "    \n",
    "    def kmer_generator(self, sequence='', kmer_length=0):\n",
    "        kmer_count = len(sequence) - (kmer_length - 1)\n",
    "        for i in range(0, kmer_count):\n",
    "            yield sequence[i:i + kmer_length]\n",
    "    \n",
    "    def create_minhash_signature(self, sequence):\n",
    "        \"\"\"\n",
    "        Parameters\n",
    "        ----------\n",
    "        sequence : string, A gene sequence or other string data to be broken into kmers.\n",
    "        ----------\n",
    "        signature : array of int, shape (minhash_length), minimum hash value produced by each hash function\n",
    "                    after hashing all kmers generated from sequence.\n",
    "        \"\"\"\n",
    "        #Break sequence into hashed kmers, then sort\n",
    "        kmer_hashes = [hash(kmer) for kmer in self.kmer_generator(sequence,self.kmer_length)]\n",
    "        kmer_hashes.sort()\n",
    "        #Take the first minhash_length hashes to create the signature \n",
    "        signature = kmer_hashes[:self.minhash_length]\n",
    "        return signature\n",
    "    \n",
    "    def add_signature_to_minhash_store(self, category, minhash_signature):\n",
    "        '''\n",
    "        Parameters\n",
    "        ----------\n",
    "        category : int or string, the category value associated with this minhash_signature\n",
    "        minhash_signature : array of int, shape (minhash_length), minimum hash value produced \n",
    "                            by each hash function after hashing all kmers generated from sequence. \n",
    "        '''\n",
    "        # Add each minhash value and category to the minhash store\n",
    "        for minhash_value in minhash_signature:\n",
    "            # Do we already have categories for this minhash value? \n",
    "            minhash_categories = self.minhash_store_.get(minhash_value, None)\n",
    "            if minhash_categories == None:\n",
    "                # No, so create a new category set for this minhash value\n",
    "                self.minhash_store_[minhash_value] = {category}\n",
    "            else: \n",
    "                #Yes, add the category to the minhash value's category set\n",
    "                minhash_categories.add(category)\n",
    "        return \n",
    "    \n",
    "    '''\n",
    "    Parameters\n",
    "    ----------\n",
    "    minhash_signature : array of int, shape (minhash_length), minimum hash value produced \n",
    "                            by each hash function after hashing all kmers generated from sequence.\n",
    "    Returns\n",
    "    ----------\n",
    "    class_scores : dict, shape (minhash_length), key = category, value = category score int\n",
    "                   The count of categories associated with each hash function's minhash value. \n",
    "    '''\n",
    "    def get_category_scores(self, minhash_signature):\n",
    "        # Create a dictionary of category / class scores\n",
    "        class_scores = dict.fromkeys(self.classes_ , 0)\n",
    "        # lookup minhash values in minhash stores \n",
    "        for minhash_value in minhash_signature:\n",
    "            # Do we have categories for this minhash value? \n",
    "            minhash_categories = self.minhash_store_.get(minhash_value, None)\n",
    "            if minhash_categories != None:\n",
    "                # Yes, add 1 for each category in the set  \n",
    "                for category in minhash_categories:\n",
    "                    class_scores[category] += 1\n",
    "        return class_scores\n",
    "    "
   ]
  },
  {
   "cell_type": "markdown",
   "metadata": {},
   "source": [
    "## Cross Validation"
   ]
  },
  {
   "cell_type": "code",
   "execution_count": 1,
   "metadata": {},
   "outputs": [],
   "source": [
    "def read_fasta_file(file_path):\n",
    "    X = []\n",
    "    y = []\n",
    "    with open(file_path, 'r') as dat:\n",
    "        for line in dat.readlines():\n",
    "            #print(line)\n",
    "            if line[0] == '>':\n",
    "                g_start = line.find(\"g__\")\n",
    "                g_end = line.find(\";\", g_start)\n",
    "                genus = line[g_start:g_end]\n",
    "                y.append(genus)\n",
    "            else:\n",
    "                X.append(line)\n",
    "    return X, y"
   ]
  },
  {
   "cell_type": "code",
   "execution_count": 2,
   "metadata": {},
   "outputs": [],
   "source": [
    "import pandas as pd\n",
    "\n",
    "# Read in the fasta file\n",
    "X, y = read_fasta_file('D:/StrandPy/Data/RDP_All_Clean.strand')\n",
    "#Remove low count genera that halt cross validation\n",
    "data = {'X': X,'y':y}\n",
    "df = pd.DataFrame(data)"
   ]
  },
  {
   "cell_type": "code",
   "execution_count": 3,
   "metadata": {},
   "outputs": [],
   "source": [
    "#Inspect counts for each class\n",
    "vcts = df.y.value_counts()\n",
    "low_vcts = vcts[vcts < 20].index.values"
   ]
  },
  {
   "cell_type": "code",
   "execution_count": 4,
   "metadata": {},
   "outputs": [
    {
     "data": {
      "text/plain": [
       "g__Streptomycineae                     544\n",
       "g__Micrococcineae                      488\n",
       "g__Corynebacterineae                   401\n",
       "g__Pseudonocardineae                   192\n",
       "g__Streptosporangineae                 188\n",
       "g__Bacillus                            177\n",
       "g__Lactobacillus                       159\n",
       "g__Pseudomonas                         136\n",
       "g__Clostridium_sensu_stricto           130\n",
       "g__Micromonosporineae                  129\n",
       "g__Paenibacillus                       126\n",
       "g__Propionibacterineae                 125\n",
       "g__Mycoplasma                          114\n",
       "g__Shewanella                           84\n",
       "g__Vibrio                               77\n",
       "g__Streptococcus                        76\n",
       "g__Halomonas                            64\n",
       "g__Flavobacterium                       63\n",
       "g__Staphylococcus                       62\n",
       "g__Burkholderia                         58\n",
       "g__Sphingomonas                         57\n",
       "g__Desulfovibrio                        55\n",
       "g__Chryseobacterium                     54\n",
       "g__Actinomycineae                       54\n",
       "g__Legionella                           53\n",
       "g__Prevotella                           50\n",
       "g__Bifidobacteriaceae                   47\n",
       "g__Clostridium_XlVa                     47\n",
       "g__Deinococcus                          45\n",
       "g__Rhizobium                            41\n",
       "                                      ... \n",
       "g__Pedobacter                           32\n",
       "g__Spiroplasma                          32\n",
       "g__Psychrobacter                        32\n",
       "g__Methylobacterium                     32\n",
       "g__Helicobacter                         31\n",
       "g__Coriobacterineae                     30\n",
       "g__Paracoccus                           30\n",
       "g__Armatimonas/Armatimonadetes_gp1      29\n",
       "g__Campylobacter                        29\n",
       "g__Thermococcus                         26\n",
       "g__Halorubrum                           26\n",
       "g__Marinobacter                         26\n",
       "g__Fusobacterium                        24\n",
       "g__Bartonella                           24\n",
       "g__Thermoanaerobacter                   24\n",
       "g__Chthonomonas/Armatimonadetes_gp3     23\n",
       "g__Desulfotomaculum                     23\n",
       "g__Virgibacillus                        22\n",
       "g__Exiguobacterium                      22\n",
       "g__Mesorhizobium                        22\n",
       "g__Clostridium_XI                       22\n",
       "g__Acinetobacter                        22\n",
       "g__Xanthomonas                          22\n",
       "g__Alicyclobacillus                     21\n",
       "g__Xenorhabdus                          21\n",
       "g__Brevundimonas                        21\n",
       "g__Sphingobium                          21\n",
       "g__Lysobacter                           20\n",
       "g__Photobacterium                       20\n",
       "g__Treponema                            20\n",
       "Name: y, Length: 64, dtype: int64"
      ]
     },
     "execution_count": 4,
     "metadata": {},
     "output_type": "execute_result"
    }
   ],
   "source": [
    "#Remove low count genera. Any classes < the fold count will halt cross validation\n",
    "df = df[~df.y.isin(low_vcts)]\n",
    "df.y.value_counts()"
   ]
  },
  {
   "cell_type": "code",
   "execution_count": 5,
   "metadata": {},
   "outputs": [],
   "source": [
    "X = df.X.values\n",
    "y = df.y.values"
   ]
  },
  {
   "cell_type": "code",
   "execution_count": 6,
   "metadata": {},
   "outputs": [
    {
     "name": "stdout",
     "output_type": "stream",
     "text": [
      "File Size: 4786\n"
     ]
    }
   ],
   "source": [
    "print('File Size: ' + str(len(X)))"
   ]
  },
  {
   "cell_type": "code",
   "execution_count": 7,
   "metadata": {},
   "outputs": [
    {
     "name": "stdout",
     "output_type": "stream",
     "text": [
      "Longest Sequence Chars:1834\n"
     ]
    }
   ],
   "source": [
    "print('Longest Sequence Chars:' + str(len(max(X, key=len))))"
   ]
  },
  {
   "cell_type": "code",
   "execution_count": 25,
   "metadata": {},
   "outputs": [],
   "source": [
    "from matplotlib import pyplot as plt\n",
    "from sklearn.metrics import confusion_matrix, mean_squared_error, classification_report, accuracy_score\n",
    "\n",
    "def per_class_accuracy(ytrue,yhat):\n",
    "    conf = confusion_matrix(ytrue,yhat)\n",
    "    norm_conf = conf.astype('float') / conf.sum(axis=1)[:, np.newaxis]\n",
    "    return np.diag(norm_conf)\n",
    "\n",
    "def plot_class_acc(ytrue,yhat, title='',class_list=''):\n",
    "    acc_list = per_class_accuracy(ytrue,yhat)\n",
    "    plt.bar(range(len(acc_list)), acc_list)\n",
    "    plt.xlabel(class_list)\n",
    "    plt.ylabel('Accuracy within class')\n",
    "    plt.title(title+\", Total Acc=%.1f\"%(100* accuracy_score(ytrue,yhat)))\n",
    "    plt.grid()\n",
    "    plt.ylim([0,1])\n",
    "    plt.show()"
   ]
  },
  {
   "cell_type": "markdown",
   "metadata": {},
   "source": [
    "## Test at kmer_length=31, minhash_length=100,"
   ]
  },
  {
   "cell_type": "code",
   "execution_count": 26,
   "metadata": {},
   "outputs": [
    {
     "name": "stdout",
     "output_type": "stream",
     "text": [
      "Wall time: 4.09 s\n"
     ]
    }
   ],
   "source": [
    "%%time\n",
    "from sklearn.model_selection import StratifiedKFold\n",
    "\n",
    "# create cross validation iterator\n",
    "cv = StratifiedKFold(n_splits=5, random_state=42)\n",
    "\n",
    "#Get only 1 stratified 80/20 split \n",
    "cvSplits = cv.split(X,y)\n",
    "train, test = next(cvSplits)\n",
    "\n",
    "# Train and test on the one fold\n",
    "strand = StrandClassifierV2(kmer_length=31, minhash_length=100, random_state=42)\n",
    "strand.fit(X[train],y[train])\n",
    "yhat = strand.predict(X[test])"
   ]
  },
  {
   "cell_type": "code",
   "execution_count": 27,
   "metadata": {},
   "outputs": [
    {
     "name": "stdout",
     "output_type": "stream",
     "text": [
      "                                     precision    recall  f1-score   support\n",
      "\n",
      "                   g__Acinetobacter      1.000     1.000     1.000         5\n",
      "                  g__Actinomycineae      1.000     1.000     1.000        11\n",
      "                       g__Aeromonas      1.000     1.000     1.000         7\n",
      "                g__Alicyclobacillus      1.000     1.000     1.000         5\n",
      " g__Armatimonas/Armatimonadetes_gp1      1.000     1.000     1.000         6\n",
      "                        g__Bacillus      0.973     1.000     0.986        36\n",
      "                     g__Bacteroides      0.889     1.000     0.941         8\n",
      "                      g__Bartonella      1.000     1.000     1.000         5\n",
      "              g__Bifidobacteriaceae      1.000     1.000     1.000        10\n",
      "                   g__Brevundimonas      1.000     1.000     1.000         5\n",
      "                    g__Burkholderia      1.000     1.000     1.000        12\n",
      "                   g__Campylobacter      1.000     1.000     1.000         6\n",
      "                g__Chryseobacterium      1.000     1.000     1.000        11\n",
      "g__Chthonomonas/Armatimonadetes_gp3      1.000     1.000     1.000         5\n",
      "                  g__Clostridium_XI      1.000     1.000     1.000         5\n",
      "                g__Clostridium_XlVa      1.000     1.000     1.000        10\n",
      "       g__Clostridium_sensu_stricto      1.000     1.000     1.000        26\n",
      "                g__Coriobacterineae      1.000     1.000     1.000         6\n",
      "               g__Corynebacterineae      0.988     1.000     0.994        81\n",
      "                     g__Deinococcus      1.000     1.000     1.000         9\n",
      "                g__Desulfotomaculum      1.000     1.000     1.000         5\n",
      "                   g__Desulfovibrio      1.000     1.000     1.000        11\n",
      "                    g__Enterococcus      1.000     1.000     1.000         7\n",
      "                 g__Exiguobacterium      1.000     1.000     1.000         5\n",
      "                  g__Flavobacterium      1.000     1.000     1.000        13\n",
      "                   g__Fusobacterium      1.000     1.000     1.000         5\n",
      "                       g__Halomonas      1.000     1.000     1.000        13\n",
      "                      g__Halorubrum      1.000     1.000     1.000         6\n",
      "                    g__Helicobacter      1.000     1.000     1.000         7\n",
      "                   g__Lactobacillus      1.000     1.000     1.000        32\n",
      "                      g__Legionella      1.000     1.000     1.000        11\n",
      "                      g__Lysobacter      1.000     1.000     1.000         4\n",
      "                    g__Marinobacter      1.000     1.000     1.000         6\n",
      "                   g__Mesorhizobium      1.000     1.000     1.000         5\n",
      "                g__Methylobacterium      1.000     1.000     1.000         7\n",
      "                  g__Micrococcineae      1.000     1.000     1.000        98\n",
      "              g__Micromonosporineae      1.000     1.000     1.000        26\n",
      "                      g__Mycoplasma      1.000     1.000     1.000        23\n",
      "                   g__Paenibacillus      1.000     1.000     1.000        26\n",
      "                      g__Paracoccus      1.000     1.000     1.000         6\n",
      "                      g__Pedobacter      1.000     1.000     1.000         7\n",
      "                  g__Photobacterium      1.000     1.000     1.000         4\n",
      "                      g__Prevotella      1.000     0.900     0.947        10\n",
      "             g__Propionibacterineae      1.000     1.000     1.000        25\n",
      "               g__Pseudoalteromonas      1.000     1.000     1.000         8\n",
      "                     g__Pseudomonas      0.964     0.964     0.964        28\n",
      "               g__Pseudonocardineae      1.000     1.000     1.000        39\n",
      "                   g__Psychrobacter      1.000     1.000     1.000         7\n",
      "                       g__Rhizobium      0.900     1.000     0.947         9\n",
      "                      g__Shewanella      1.000     1.000     1.000        17\n",
      "                     g__Sphingobium      0.714     1.000     0.833         5\n",
      "                    g__Sphingomonas      1.000     0.833     0.909        12\n",
      "                     g__Spiroplasma      1.000     1.000     1.000         7\n",
      "                  g__Staphylococcus      1.000     1.000     1.000        13\n",
      "                   g__Streptococcus      1.000     1.000     1.000        16\n",
      "                 g__Streptomycineae      1.000     0.991     0.995       109\n",
      "             g__Streptosporangineae      1.000     1.000     1.000        38\n",
      "              g__Thermoanaerobacter      1.000     1.000     1.000         5\n",
      "                    g__Thermococcus      1.000     1.000     1.000         6\n",
      "                       g__Treponema      1.000     1.000     1.000         4\n",
      "                          g__Vibrio      1.000     1.000     1.000        16\n",
      "                   g__Virgibacillus      1.000     0.800     0.889         5\n",
      "                     g__Xanthomonas      1.000     0.800     0.889         5\n",
      "                     g__Xenorhabdus      1.000     1.000     1.000         5\n",
      "\n",
      "                           accuracy                          0.993       985\n",
      "                          macro avg      0.991     0.989     0.989       985\n",
      "                       weighted avg      0.994     0.993     0.993       985\n",
      "\n"
     ]
    },
    {
     "data": {
      "image/png": "[encoded data removed]",
      "text/plain": [
       "<Figure size 432x288 with 1 Axes>"
      ]
     },
     "metadata": {
      "needs_background": "light"
     },
     "output_type": "display_data"
    }
   ],
   "source": [
    "# Report our results\n",
    "print (classification_report(y[test], yhat, digits = 3))\n",
    "                \n",
    "plot_class_acc(y[test], yhat, title = \"Strand\", class_list ='')# ', '.join(map(str, strand.classes_)))"
   ]
  },
  {
   "cell_type": "markdown",
   "metadata": {},
   "source": [
    "## Test at kmer_length=60, minhash_length=100,"
   ]
  },
  {
   "cell_type": "code",
   "execution_count": 28,
   "metadata": {},
   "outputs": [
    {
     "name": "stdout",
     "output_type": "stream",
     "text": [
      "Wall time: 4.08 s\n"
     ]
    }
   ],
   "source": [
    "%%time\n",
    "from sklearn.model_selection import StratifiedKFold\n",
    "\n",
    "# create cross validation iterator\n",
    "cv = StratifiedKFold(n_splits=5, random_state=42)\n",
    "\n",
    "#Get only 1 stratified 80/20 split \n",
    "cvSplits = cv.split(X,y)\n",
    "train, test = next(cvSplits)\n",
    "\n",
    "# Train and test on the one fold\n",
    "strand = StrandClassifierV2(kmer_length=60, minhash_length=100, random_state=42)\n",
    "strand.fit(X[train],y[train])\n",
    "yhat = strand.predict(X[test])"
   ]
  },
  {
   "cell_type": "code",
   "execution_count": 29,
   "metadata": {},
   "outputs": [
    {
     "name": "stdout",
     "output_type": "stream",
     "text": [
      "                                     precision    recall  f1-score   support\n",
      "\n",
      "                   g__Acinetobacter      1.000     1.000     1.000         5\n",
      "                  g__Actinomycineae      1.000     1.000     1.000        11\n",
      "                       g__Aeromonas      1.000     1.000     1.000         7\n",
      "                g__Alicyclobacillus      0.833     1.000     0.909         5\n",
      " g__Armatimonas/Armatimonadetes_gp1      1.000     1.000     1.000         6\n",
      "                        g__Bacillus      0.972     0.972     0.972        36\n",
      "                     g__Bacteroides      1.000     1.000     1.000         8\n",
      "                      g__Bartonella      1.000     1.000     1.000         5\n",
      "              g__Bifidobacteriaceae      1.000     1.000     1.000        10\n",
      "                   g__Brevundimonas      1.000     1.000     1.000         5\n",
      "                    g__Burkholderia      1.000     1.000     1.000        12\n",
      "                   g__Campylobacter      1.000     1.000     1.000         6\n",
      "                g__Chryseobacterium      1.000     1.000     1.000        11\n",
      "g__Chthonomonas/Armatimonadetes_gp3      1.000     1.000     1.000         5\n",
      "                  g__Clostridium_XI      1.000     1.000     1.000         5\n",
      "                g__Clostridium_XlVa      1.000     1.000     1.000        10\n",
      "       g__Clostridium_sensu_stricto      1.000     1.000     1.000        26\n",
      "                g__Coriobacterineae      1.000     1.000     1.000         6\n",
      "               g__Corynebacterineae      0.988     1.000     0.994        81\n",
      "                     g__Deinococcus      1.000     1.000     1.000         9\n",
      "                g__Desulfotomaculum      1.000     1.000     1.000         5\n",
      "                   g__Desulfovibrio      1.000     1.000     1.000        11\n",
      "                    g__Enterococcus      1.000     1.000     1.000         7\n",
      "                 g__Exiguobacterium      1.000     1.000     1.000         5\n",
      "                  g__Flavobacterium      1.000     1.000     1.000        13\n",
      "                   g__Fusobacterium      1.000     1.000     1.000         5\n",
      "                       g__Halomonas      1.000     1.000     1.000        13\n",
      "                      g__Halorubrum      1.000     1.000     1.000         6\n",
      "                    g__Helicobacter      1.000     1.000     1.000         7\n",
      "                   g__Lactobacillus      1.000     1.000     1.000        32\n",
      "                      g__Legionella      1.000     1.000     1.000        11\n",
      "                      g__Lysobacter      1.000     1.000     1.000         4\n",
      "                    g__Marinobacter      1.000     1.000     1.000         6\n",
      "                   g__Mesorhizobium      1.000     1.000     1.000         5\n",
      "                g__Methylobacterium      1.000     1.000     1.000         7\n",
      "                  g__Micrococcineae      1.000     1.000     1.000        98\n",
      "              g__Micromonosporineae      1.000     1.000     1.000        26\n",
      "                      g__Mycoplasma      1.000     1.000     1.000        23\n",
      "                   g__Paenibacillus      1.000     1.000     1.000        26\n",
      "                      g__Paracoccus      1.000     1.000     1.000         6\n",
      "                      g__Pedobacter      1.000     1.000     1.000         7\n",
      "                  g__Photobacterium      1.000     1.000     1.000         4\n",
      "                      g__Prevotella      1.000     1.000     1.000        10\n",
      "             g__Propionibacterineae      1.000     1.000     1.000        25\n",
      "               g__Pseudoalteromonas      1.000     1.000     1.000         8\n",
      "                     g__Pseudomonas      0.964     0.964     0.964        28\n",
      "               g__Pseudonocardineae      1.000     1.000     1.000        39\n",
      "                   g__Psychrobacter      1.000     1.000     1.000         7\n",
      "                       g__Rhizobium      0.900     1.000     0.947         9\n",
      "                      g__Shewanella      1.000     1.000     1.000        17\n",
      "                     g__Sphingobium      0.667     0.800     0.727         5\n",
      "                    g__Sphingomonas      0.909     0.833     0.870        12\n",
      "                     g__Spiroplasma      1.000     1.000     1.000         7\n",
      "                  g__Staphylococcus      1.000     1.000     1.000        13\n",
      "                   g__Streptococcus      1.000     1.000     1.000        16\n",
      "                 g__Streptomycineae      1.000     0.991     0.995       109\n",
      "             g__Streptosporangineae      1.000     1.000     1.000        38\n",
      "              g__Thermoanaerobacter      1.000     1.000     1.000         5\n",
      "                    g__Thermococcus      1.000     1.000     1.000         6\n",
      "                       g__Treponema      1.000     1.000     1.000         4\n",
      "                          g__Vibrio      1.000     1.000     1.000        16\n",
      "                   g__Virgibacillus      1.000     0.800     0.889         5\n",
      "                     g__Xanthomonas      1.000     0.800     0.889         5\n",
      "                     g__Xenorhabdus      1.000     1.000     1.000         5\n",
      "\n",
      "                           accuracy                          0.992       985\n",
      "                          macro avg      0.988     0.987     0.987       985\n",
      "                       weighted avg      0.992     0.992     0.992       985\n",
      "\n"
     ]
    },
    {
     "data": {
      "image/png": "[encoded data removed]",
      "text/plain": [
       "<Figure size 432x288 with 1 Axes>"
      ]
     },
     "metadata": {
      "needs_background": "light"
     },
     "output_type": "display_data"
    }
   ],
   "source": [
    "# Report our results\n",
    "print (classification_report(y[test], yhat, digits = 3))\n",
    "                \n",
    "plot_class_acc(y[test], yhat, title = \"Strand\", class_list ='')# ', '.join(map(str, strand.classes_)))"
   ]
  },
  {
   "cell_type": "markdown",
   "metadata": {},
   "source": [
    "## Parallel 10-Fold CV at kmer_length=30, minhash_length=100,"
   ]
  },
  {
   "cell_type": "code",
   "execution_count": 30,
   "metadata": {},
   "outputs": [
    {
     "name": "stdout",
     "output_type": "stream",
     "text": [
      "Wall time: 11.6 s\n"
     ]
    }
   ],
   "source": [
    "%%time\n",
    "from sklearn.model_selection import StratifiedKFold\n",
    "from sklearn.model_selection import cross_val_predict\n",
    "\n",
    "# create cross validation iterator\n",
    "cv = StratifiedKFold(n_splits=10, random_state=42)\n",
    "\n",
    "# Create our Strand sequence classifier\n",
    "strand = StrandClassifierV2(kmer_length=31, minhash_length=100, random_state=42)\n",
    "\n",
    "#run in parallel on all available cores\n",
    "yhat = cross_val_predict(strand, X, y, cv=cv, n_jobs=-1)"
   ]
  },
  {
   "cell_type": "code",
   "execution_count": 31,
   "metadata": {},
   "outputs": [
    {
     "name": "stdout",
     "output_type": "stream",
     "text": [
      "                                     precision    recall  f1-score   support\n",
      "\n",
      "                   g__Acinetobacter      1.000     1.000     1.000        22\n",
      "                  g__Actinomycineae      1.000     1.000     1.000        54\n",
      "                       g__Aeromonas      1.000     1.000     1.000        33\n",
      "                g__Alicyclobacillus      1.000     0.952     0.976        21\n",
      " g__Armatimonas/Armatimonadetes_gp1      1.000     1.000     1.000        29\n",
      "                        g__Bacillus      0.989     1.000     0.994       177\n",
      "                     g__Bacteroides      0.974     1.000     0.987        37\n",
      "                      g__Bartonella      1.000     1.000     1.000        24\n",
      "              g__Bifidobacteriaceae      1.000     1.000     1.000        47\n",
      "                   g__Brevundimonas      1.000     1.000     1.000        21\n",
      "                    g__Burkholderia      1.000     1.000     1.000        58\n",
      "                   g__Campylobacter      1.000     1.000     1.000        29\n",
      "                g__Chryseobacterium      1.000     1.000     1.000        54\n",
      "g__Chthonomonas/Armatimonadetes_gp3      1.000     1.000     1.000        23\n",
      "                  g__Clostridium_XI      0.957     1.000     0.978        22\n",
      "                g__Clostridium_XlVa      0.979     0.979     0.979        47\n",
      "       g__Clostridium_sensu_stricto      1.000     1.000     1.000       130\n",
      "                g__Coriobacterineae      1.000     1.000     1.000        30\n",
      "               g__Corynebacterineae      0.995     0.998     0.996       401\n",
      "                     g__Deinococcus      1.000     1.000     1.000        45\n",
      "                g__Desulfotomaculum      1.000     1.000     1.000        23\n",
      "                   g__Desulfovibrio      1.000     1.000     1.000        55\n",
      "                    g__Enterococcus      1.000     1.000     1.000        35\n",
      "                 g__Exiguobacterium      1.000     1.000     1.000        22\n",
      "                  g__Flavobacterium      1.000     0.984     0.992        63\n",
      "                   g__Fusobacterium      1.000     1.000     1.000        24\n",
      "                       g__Halomonas      0.985     1.000     0.992        64\n",
      "                      g__Halorubrum      1.000     1.000     1.000        26\n",
      "                    g__Helicobacter      1.000     1.000     1.000        31\n",
      "                   g__Lactobacillus      1.000     0.994     0.997       159\n",
      "                      g__Legionella      1.000     1.000     1.000        53\n",
      "                      g__Lysobacter      1.000     1.000     1.000        20\n",
      "                    g__Marinobacter      1.000     1.000     1.000        26\n",
      "                   g__Mesorhizobium      1.000     1.000     1.000        22\n",
      "                g__Methylobacterium      1.000     1.000     1.000        32\n",
      "                  g__Micrococcineae      1.000     1.000     1.000       488\n",
      "              g__Micromonosporineae      1.000     1.000     1.000       129\n",
      "                      g__Mycoplasma      1.000     1.000     1.000       114\n",
      "                   g__Paenibacillus      1.000     1.000     1.000       126\n",
      "                      g__Paracoccus      1.000     1.000     1.000        30\n",
      "                      g__Pedobacter      0.970     1.000     0.985        32\n",
      "                  g__Photobacterium      1.000     1.000     1.000        20\n",
      "                      g__Prevotella      1.000     0.980     0.990        50\n",
      "             g__Propionibacterineae      1.000     1.000     1.000       125\n",
      "               g__Pseudoalteromonas      1.000     1.000     1.000        36\n",
      "                     g__Pseudomonas      0.978     0.971     0.974       136\n",
      "               g__Pseudonocardineae      0.995     0.990     0.992       192\n",
      "                   g__Psychrobacter      1.000     1.000     1.000        32\n",
      "                       g__Rhizobium      0.976     0.976     0.976        41\n",
      "                      g__Shewanella      0.988     1.000     0.994        84\n",
      "                     g__Sphingobium      0.864     0.905     0.884        21\n",
      "                    g__Sphingomonas      0.964     0.947     0.956        57\n",
      "                     g__Spiroplasma      1.000     1.000     1.000        32\n",
      "                  g__Staphylococcus      1.000     1.000     1.000        62\n",
      "                   g__Streptococcus      1.000     1.000     1.000        76\n",
      "                 g__Streptomycineae      1.000     0.998     0.999       544\n",
      "             g__Streptosporangineae      0.995     1.000     0.997       188\n",
      "              g__Thermoanaerobacter      1.000     1.000     1.000        24\n",
      "                    g__Thermococcus      1.000     1.000     1.000        26\n",
      "                       g__Treponema      1.000     1.000     1.000        20\n",
      "                          g__Vibrio      1.000     1.000     1.000        77\n",
      "                   g__Virgibacillus      1.000     0.955     0.977        22\n",
      "                     g__Xanthomonas      0.952     0.909     0.930        22\n",
      "                     g__Xenorhabdus      1.000     1.000     1.000        21\n",
      "\n",
      "                           accuracy                          0.995      4786\n",
      "                          macro avg      0.993     0.993     0.993      4786\n",
      "                       weighted avg      0.995     0.995     0.995      4786\n",
      "\n"
     ]
    },
    {
     "data": {
      "image/png": "[encoded data removed]",
      "text/plain": [
       "<Figure size 432x288 with 1 Axes>"
      ]
     },
     "metadata": {
      "needs_background": "light"
     },
     "output_type": "display_data"
    }
   ],
   "source": [
    "# Report our results\n",
    "print (classification_report(y, yhat, digits = 3))\n",
    "                \n",
    "plot_class_acc(y, yhat, title = \"Strand\", class_list = '')"
   ]
  }
 ],
 "metadata": {
  "kernelspec": {
   "display_name": "Python 3",
   "language": "python",
   "name": "python3"
  },
  "language_info": {
   "codemirror_mode": {
    "name": "ipython",
    "version": 3
   },
   "file_extension": ".py",
   "mimetype": "text/x-python",
   "name": "python",
   "nbconvert_exporter": "python",
   "pygments_lexer": "ipython3",
   "version": "3.7.1"
  }
 },
 "nbformat": 4,
 "nbformat_minor": 2
}
