{
 "cells": [
  {
   "cell_type": "markdown",
   "metadata": {},
   "source": [
    "### Strand Classifier Using one Minhash Function\n",
    "* A single threaded implementation of Strand as a SciKit Estimator using **only one** hashing functions. \n",
    "\n",
    "**This notebook shows performance differences using:**\n",
    "* A single minhash function.\n",
    "* Stratified Cross Validation using only one fold with an 80 / 20 split.\n",
    "* 10-fold Stratified Cross Validation using 90 / 10 splits.\n",
    "* Total Classes: 5\n",
    "* Longest sequence in file: 3,188,780\n",
    "* File Sequence Count: 541\n",
    "* Input file size of 396,153 KB\n",
    "\n",
    "**Observations:**\n",
    "* 1-fold stratified cv @ 80 / 20 splits and (kmer_length=31, minhash_length=100) = 28.6 sec, 46.8% Accuracy\n",
    "* 1-fold stratified cv @ 80 / 20 splits and (kmer_length=31, minhash_length=200) = 28.9 sec, 52.3% Accuracy \n",
    "* 1-fold stratified cv @ 80 / 20 splits and (kmer_length=31, minhash_length=300) = 28.5 sec, 53.2% Accuracy \n",
    "* 1-fold stratified cv @ 80 / 20 splits and (kmer_length=31, minhash_length=400) = 28.5 sec, 59.5% Accuracy \n",
    "* 1-fold stratified cv @ 80 / 20 splits and (kmer_length=31, minhash_length=500) = 28.2 sec, 60.4% Accuracy \n",
    "* 1-fold stratified cv @ 80 / 20 splits and (kmer_length=31, minhash_length=1000) = 28.3 sec, 71.2% Accuracy \n",
    "* 1-fold stratified cv @ 80 / 20 splits and (kmer_length=31, minhash_length=2000) = 29.3 sec, 78.4% Accuracy \n",
    "* 1-fold stratified cv @ 80 / 20 splits and (kmer_length=31, minhash_length=4000) = 22.3 sec, 78.4% Accuracy \n",
    "* 1-fold stratified cv @ 80 / 20 splits and (kmer_length=60, minhash_length=100) = 29.2 sec, 39.6% Accuracy \n",
    "* 10-fold stratified cv @ 90 / 10 splits and (kmer_length=31, minhash_length=2000) = 1min 36s, 85.2% Accuracy "
   ]
  },
  {
   "cell_type": "code",
   "execution_count": 3,
   "metadata": {},
   "outputs": [],
   "source": [
    "import numpy as np\n",
    "from sys import maxsize\n",
    "from sklearn.base import BaseEstimator, ClassifierMixin, TransformerMixin\n",
    "from sklearn.utils.validation import check_X_y, check_array, check_is_fitted, check_random_state\n",
    "from sklearn.utils.multiclass import unique_labels"
   ]
  },
  {
   "cell_type": "code",
   "execution_count": 4,
   "metadata": {},
   "outputs": [],
   "source": [
    "# Created by Jake Drew on 03/16/2020\n",
    "# All rights reserved - 03/2020\n",
    "class StrandClassifierV2(BaseEstimator, ClassifierMixin):\n",
    "    \"\"\"\n",
    "    Parameters\n",
    "    ----------\n",
    "    X_ : ndarray, shape (n_samples, n_features)\n",
    "         The input passed during :meth:`fit`.\n",
    "    y_ : ndarray, shape (n_samples,)\n",
    "         The labels passed during :meth:`fit`.\n",
    "    classes_ : ndarray, shape (n_classes,)\n",
    "              The classes seen at :meth:`fit`.\n",
    "    kmer_length : integer, breaking the gene sequence into chunks of this length  \n",
    "    minhash_length: integer, the number of minhash values to be included in the minhash signature. \n",
    "                    Longer minhash signatures approximate Jaccard Similarity more accurately and take \n",
    "                    more time to create. The total number of randomly seeded hashing functions is \n",
    "                    also controlled by the value in minhash_length.\n",
    "    minhash_store_ : dict() array, shape (minhash_length), key == minhash int, value = category array int\n",
    "                      Partitions unique minhash values and category associations by hash function.\n",
    "    \"\"\"\n",
    "    def __init__(self, kmer_length=20, minhash_length=100, random_state=None):\n",
    "        self.kmer_length = kmer_length\n",
    "        self.random_state = random_state\n",
    "        self.minhash_length = minhash_length\n",
    "        \n",
    "    def fit(self, X, y):\n",
    "        \"\"\"\n",
    "        Parameters\n",
    "        ----------\n",
    "        X : array-like, shape (n_samples, n_features)\n",
    "            The training input samples.\n",
    "        y : array-like, shape (n_samples,)\n",
    "            The target values. An array of int.\n",
    "        Returns\n",
    "        -------\n",
    "        self : object\n",
    "            Returns self.\n",
    "        \"\"\"\n",
    "        self.random_state_ = check_random_state(self.random_state)\n",
    "        \n",
    "        # Check that X and y have correct shape\n",
    "        X, y = check_X_y(X, y, ensure_2d=False, dtype=None)\n",
    "        \n",
    "        # Store the classes seen during fit\n",
    "        self.classes_ = unique_labels(y)\n",
    "        \n",
    "        # Store the training data (X) and targets (y) used to fit the model\n",
    "        self.X_ = X\n",
    "        self.y_ = y\n",
    "        \n",
    "        # Store the minhash values and respective categories\n",
    "        self.minhash_store_ = dict()\n",
    "        \n",
    "        # Train the model for X and y\n",
    "        for sequence, category in zip(X, y):   \n",
    "            # Create minhash signatures for each sequence\n",
    "            signature = self.create_minhash_signature(sequence)\n",
    "            # Store minhash values and respective categories to minhash_store_ partitioned by hash function \n",
    "            self.add_signature_to_minhash_store(category, signature)\n",
    "            \n",
    "        # Return the classifier\n",
    "        return self\n",
    "\n",
    "    def predict(self, X):\n",
    "        \"\"\"\n",
    "        Parameters\n",
    "        ----------\n",
    "        X : array-like, shape (n_samples, n_features)\n",
    "            The input samples.\n",
    "        Returns\n",
    "        -------\n",
    "        y : ndarray, shape (n_samples,)\n",
    "            The label for each sample is the label of the closest sample\n",
    "            seen during fit.\n",
    "        \"\"\"\n",
    "        # Check is fit had been called\n",
    "        check_is_fitted(self, ['X_', 'y_'])\n",
    "\n",
    "        # Input validation\n",
    "        X = check_array(X, ensure_2d=False, dtype=None)\n",
    "        \n",
    "        yhats = []\n",
    "        for sequence in X:\n",
    "            # Create a minhash signature from the sequence X\n",
    "            signature = self.create_minhash_signature(sequence)\n",
    "            # Score all categories using the minhash signature  \n",
    "            category_stores = self.get_category_scores(signature)\n",
    "            #Get the first category with the highest score\n",
    "            winning_category = max(category_stores, key=category_stores.get)\n",
    "            #Add to our predictions\n",
    "            yhats.append(winning_category)\n",
    "        \n",
    "        return yhats\n",
    "    \n",
    "    def kmer_generator(self, sequence='', kmer_length=0):\n",
    "        kmer_count = len(sequence) - (kmer_length - 1)\n",
    "        for i in range(0, kmer_count):\n",
    "            yield sequence[i:i + kmer_length]\n",
    "    \n",
    "    def create_minhash_signature(self, sequence):\n",
    "        \"\"\"\n",
    "        Parameters\n",
    "        ----------\n",
    "        sequence : string, A gene sequence or other string data to be broken into kmers.\n",
    "        ----------\n",
    "        signature : array of int, shape (minhash_length), minimum hash value produced by each hash function\n",
    "                    after hashing all kmers generated from sequence.\n",
    "        \"\"\"\n",
    "        #Break sequence into hashed kmers, then sort\n",
    "        kmer_hashes = [hash(kmer) for kmer in self.kmer_generator(sequence,self.kmer_length)]\n",
    "        kmer_hashes.sort()\n",
    "        #Take the first minhash_length hashes to create the signature \n",
    "        signature = kmer_hashes[:self.minhash_length]\n",
    "        return signature\n",
    "    \n",
    "    def add_signature_to_minhash_store(self, category, minhash_signature):\n",
    "        '''\n",
    "        Parameters\n",
    "        ----------\n",
    "        category : int or string, the category value associated with this minhash_signature\n",
    "        minhash_signature : array of int, shape (minhash_length), minimum hash value produced \n",
    "                            by each hash function after hashing all kmers generated from sequence. \n",
    "        '''\n",
    "        # Add each minhash value and category to the minhash store\n",
    "        for minhash_value in minhash_signature:\n",
    "            # Do we already have categories for this minhash value? \n",
    "            minhash_categories = self.minhash_store_.get(minhash_value, None)\n",
    "            if minhash_categories == None:\n",
    "                # No, so create a new category set for this minhash value\n",
    "                self.minhash_store_[minhash_value] = {category}\n",
    "            else: \n",
    "                #Yes, add the category to the minhash value's category set\n",
    "                minhash_categories.add(category)\n",
    "        return \n",
    "    \n",
    "    '''\n",
    "    Parameters\n",
    "    ----------\n",
    "    minhash_signature : array of int, shape (minhash_length), minimum hash value produced \n",
    "                            by each hash function after hashing all kmers generated from sequence.\n",
    "    Returns\n",
    "    ----------\n",
    "    class_scores : dict, shape (minhash_length), key = category, value = category score int\n",
    "                   The count of categories associated with each hash function's minhash value. \n",
    "    '''\n",
    "    def get_category_scores(self, minhash_signature):\n",
    "        # Create a dictionary of category / class scores\n",
    "        class_scores = dict.fromkeys(self.classes_ , 0)\n",
    "        # lookup minhash values in minhash stores \n",
    "        for minhash_value in minhash_signature:\n",
    "            # Do we have categories for this minhash value? \n",
    "            minhash_categories = self.minhash_store_.get(minhash_value, None)\n",
    "            if minhash_categories != None:\n",
    "                # Yes, add 1 for each category in the set  \n",
    "                for category in minhash_categories:\n",
    "                    class_scores[category] += 1\n",
    "        return class_scores\n",
    "    "
   ]
  },
  {
   "cell_type": "markdown",
   "metadata": {},
   "source": [
    "## Cross Validation"
   ]
  },
  {
   "cell_type": "code",
   "execution_count": 1,
   "metadata": {},
   "outputs": [],
   "source": [
    "def read_fasta_file(file_path):\n",
    "    X = []\n",
    "    y = []\n",
    "    with open(file_path, 'r') as dat:\n",
    "        for line in dat.readlines():\n",
    "            #print(line)\n",
    "            if line[0] == '>':\n",
    "                g_start = line.find(\"g__\")\n",
    "                g_end = line.find(\";\", g_start)\n",
    "                genus = line[g_start:g_end]\n",
    "                y.append(genus)\n",
    "            else:\n",
    "                X.append(line)\n",
    "    return X, y"
   ]
  },
  {
   "cell_type": "code",
   "execution_count": 2,
   "metadata": {},
   "outputs": [],
   "source": [
    "import pandas as pd\n",
    "\n",
    "# Read in the fasta file\n",
    "X, y = read_fasta_file('D:/Strand/Journal/NCBI_HiSeq_Strand/HiSeqTrainData.Strand')\n",
    "#Remove low count genera that halt cross validation\n",
    "data = {'X': X,'y':y}\n",
    "df = pd.DataFrame(data)"
   ]
  },
  {
   "cell_type": "code",
   "execution_count": 3,
   "metadata": {},
   "outputs": [],
   "source": [
    "#Inspect counts for each class\n",
    "vcts = df.y.value_counts()\n",
    "low_vcts = vcts[vcts < 15].index.values"
   ]
  },
  {
   "cell_type": "code",
   "execution_count": 4,
   "metadata": {},
   "outputs": [
    {
     "data": {
      "text/plain": [
       "g__streptococcus    221\n",
       "g__xanthomonas      151\n",
       "g__pelosinus        134\n",
       "g__rhodobacter       18\n",
       "g__vibrio            17\n",
       "Name: y, dtype: int64"
      ]
     },
     "execution_count": 4,
     "metadata": {},
     "output_type": "execute_result"
    }
   ],
   "source": [
    "#Remove low count genera. Any classes < the fold count will halt cross validation\n",
    "df = df[~df.y.isin(low_vcts)]\n",
    "df.y.value_counts()"
   ]
  },
  {
   "cell_type": "code",
   "execution_count": 5,
   "metadata": {},
   "outputs": [],
   "source": [
    "X = df.X.values\n",
    "y = df.y.values"
   ]
  },
  {
   "cell_type": "code",
   "execution_count": 6,
   "metadata": {},
   "outputs": [
    {
     "name": "stdout",
     "output_type": "stream",
     "text": [
      "File Size: 541\n"
     ]
    }
   ],
   "source": [
    "print('File Size: ' + str(len(X)))"
   ]
  },
  {
   "cell_type": "code",
   "execution_count": 7,
   "metadata": {},
   "outputs": [
    {
     "name": "stdout",
     "output_type": "stream",
     "text": [
      "Longest Sequence Chars:3188780\n"
     ]
    }
   ],
   "source": [
    "print('Longest Sequence Chars:' + str(len(max(X, key=len))))"
   ]
  },
  {
   "cell_type": "code",
   "execution_count": 11,
   "metadata": {},
   "outputs": [],
   "source": [
    "from matplotlib import pyplot as plt\n",
    "from sklearn.metrics import confusion_matrix, mean_squared_error, classification_report, accuracy_score\n",
    "\n",
    "def per_class_accuracy(ytrue,yhat):\n",
    "    conf = confusion_matrix(ytrue,yhat)\n",
    "    norm_conf = conf.astype('float') / conf.sum(axis=1)[:, np.newaxis]\n",
    "    return np.diag(norm_conf)\n",
    "\n",
    "def plot_class_acc(ytrue,yhat, title='',class_list=''):\n",
    "    acc_list = per_class_accuracy(ytrue,yhat)\n",
    "    plt.bar(range(len(acc_list)), acc_list)\n",
    "    plt.xlabel(class_list)\n",
    "    plt.ylabel('Accuracy within class')\n",
    "    plt.title(title+\", Total Acc=%.1f\"%(100* accuracy_score(ytrue,yhat)))\n",
    "    plt.grid()\n",
    "    plt.ylim([0,1])\n",
    "    plt.show()"
   ]
  },
  {
   "cell_type": "markdown",
   "metadata": {},
   "source": [
    "## Test at kmer_length=31, minhash_length=100,"
   ]
  },
  {
   "cell_type": "code",
   "execution_count": 16,
   "metadata": {},
   "outputs": [
    {
     "name": "stdout",
     "output_type": "stream",
     "text": [
      "Wall time: 28.6 s\n"
     ]
    }
   ],
   "source": [
    "%%time\n",
    "from sklearn.model_selection import StratifiedKFold\n",
    "\n",
    "# create cross validation iterator\n",
    "cv = StratifiedKFold(n_splits=5, random_state=42)\n",
    "\n",
    "#Get only 1 stratified 80/20 split \n",
    "cvSplits = cv.split(X,y)\n",
    "train, test = next(cvSplits)\n",
    "\n",
    "# Train and test on the one fold\n",
    "strand = StrandClassifierV2(kmer_length=31, minhash_length=100, random_state=42)\n",
    "strand.fit(X[train],y[train])\n",
    "yhat = strand.predict(X[test])"
   ]
  },
  {
   "cell_type": "code",
   "execution_count": 17,
   "metadata": {},
   "outputs": [
    {
     "name": "stdout",
     "output_type": "stream",
     "text": [
      "                  precision    recall  f1-score   support\n",
      "\n",
      "    g__pelosinus      0.314     1.000     0.478        27\n",
      "  g__rhodobacter      1.000     1.000     1.000         4\n",
      "g__streptococcus      1.000     0.133     0.235        45\n",
      "       g__vibrio      1.000     1.000     1.000         4\n",
      "  g__xanthomonas      1.000     0.355     0.524        31\n",
      "\n",
      "        accuracy                          0.468       111\n",
      "       macro avg      0.863     0.698     0.647       111\n",
      "    weighted avg      0.833     0.468     0.430       111\n",
      "\n"
     ]
    },
    {
     "data": {
      "image/png": "[encoded data removed]",
      "text/plain": [
       "<Figure size 432x288 with 1 Axes>"
      ]
     },
     "metadata": {
      "needs_background": "light"
     },
     "output_type": "display_data"
    }
   ],
   "source": [
    "# Report our results\n",
    "print (classification_report(y[test], yhat, digits = 3))\n",
    "                \n",
    "plot_class_acc(y[test], yhat, title = \"Strand\", class_list ='')# ', '.join(map(str, strand.classes_)))"
   ]
  },
  {
   "cell_type": "markdown",
   "metadata": {},
   "source": [
    "## Test at kmer_length=31, minhash_length=200,"
   ]
  },
  {
   "cell_type": "code",
   "execution_count": 14,
   "metadata": {},
   "outputs": [
    {
     "name": "stdout",
     "output_type": "stream",
     "text": [
      "Wall time: 28.9 s\n"
     ]
    }
   ],
   "source": [
    "%%time\n",
    "from sklearn.model_selection import StratifiedKFold\n",
    "\n",
    "# create cross validation iterator\n",
    "cv = StratifiedKFold(n_splits=5, random_state=42)\n",
    "\n",
    "#Get only 1 stratified 80/20 split \n",
    "cvSplits = cv.split(X,y)\n",
    "train, test = next(cvSplits)\n",
    "\n",
    "# Train and test on the one fold\n",
    "strand = StrandClassifierV2(kmer_length=31, minhash_length=200, random_state=42)\n",
    "strand.fit(X[train],y[train])\n",
    "yhat = strand.predict(X[test])"
   ]
  },
  {
   "cell_type": "code",
   "execution_count": 15,
   "metadata": {},
   "outputs": [
    {
     "name": "stdout",
     "output_type": "stream",
     "text": [
      "                  precision    recall  f1-score   support\n",
      "\n",
      "    g__pelosinus      0.338     1.000     0.505        27\n",
      "  g__rhodobacter      1.000     1.000     1.000         4\n",
      "g__streptococcus      1.000     0.244     0.393        45\n",
      "       g__vibrio      1.000     1.000     1.000         4\n",
      "  g__xanthomonas      1.000     0.387     0.558        31\n",
      "\n",
      "        accuracy                          0.523       111\n",
      "       macro avg      0.868     0.726     0.691       111\n",
      "    weighted avg      0.839     0.523     0.510       111\n",
      "\n"
     ]
    },
    {
     "data": {
      "image/png": "[encoded data removed]",
      "text/plain": [
       "<Figure size 432x288 with 1 Axes>"
      ]
     },
     "metadata": {
      "needs_background": "light"
     },
     "output_type": "display_data"
    }
   ],
   "source": [
    "# Report our results\n",
    "print (classification_report(y[test], yhat, digits = 3))\n",
    "                \n",
    "plot_class_acc(y[test], yhat, title = \"Strand\", class_list ='')# ', '.join(map(str, strand.classes_)))"
   ]
  },
  {
   "cell_type": "markdown",
   "metadata": {},
   "source": [
    "## Test at kmer_length=31, minhash_length=300"
   ]
  },
  {
   "cell_type": "code",
   "execution_count": 16,
   "metadata": {},
   "outputs": [
    {
     "name": "stdout",
     "output_type": "stream",
     "text": [
      "Wall time: 28.5 s\n"
     ]
    }
   ],
   "source": [
    "%%time\n",
    "from sklearn.model_selection import StratifiedKFold\n",
    "\n",
    "# create cross validation iterator\n",
    "cv = StratifiedKFold(n_splits=5, random_state=42)\n",
    "\n",
    "#Get only 1 stratified 80/20 split \n",
    "cvSplits = cv.split(X,y)\n",
    "train, test = next(cvSplits)\n",
    "\n",
    "# Train and test on the one fold\n",
    "strand = StrandClassifierV2(kmer_length=31, minhash_length=300, random_state=42)\n",
    "strand.fit(X[train],y[train])\n",
    "yhat = strand.predict(X[test])"
   ]
  },
  {
   "cell_type": "code",
   "execution_count": 17,
   "metadata": {},
   "outputs": [
    {
     "name": "stdout",
     "output_type": "stream",
     "text": [
      "                  precision    recall  f1-score   support\n",
      "\n",
      "    g__pelosinus      0.342     1.000     0.509        27\n",
      "  g__rhodobacter      1.000     1.000     1.000         4\n",
      "g__streptococcus      1.000     0.267     0.421        45\n",
      "       g__vibrio      1.000     1.000     1.000         4\n",
      "  g__xanthomonas      1.000     0.387     0.558        31\n",
      "\n",
      "        accuracy                          0.532       111\n",
      "       macro avg      0.868     0.731     0.698       111\n",
      "    weighted avg      0.840     0.532     0.523       111\n",
      "\n"
     ]
    },
    {
     "data": {
      "image/png": "[encoded data removed]",
      "text/plain": [
       "<Figure size 432x288 with 1 Axes>"
      ]
     },
     "metadata": {
      "needs_background": "light"
     },
     "output_type": "display_data"
    }
   ],
   "source": [
    "# Report our results\n",
    "print (classification_report(y[test], yhat, digits = 3))\n",
    "                \n",
    "plot_class_acc(y[test], yhat, title = \"Strand\", class_list ='')# ', '.join(map(str, strand.classes_)))"
   ]
  },
  {
   "cell_type": "markdown",
   "metadata": {},
   "source": [
    "## Test at kmer_length=31, minhash_length=400"
   ]
  },
  {
   "cell_type": "code",
   "execution_count": 19,
   "metadata": {},
   "outputs": [
    {
     "name": "stdout",
     "output_type": "stream",
     "text": [
      "Wall time: 28.5 s\n"
     ]
    }
   ],
   "source": [
    "%%time\n",
    "from sklearn.model_selection import StratifiedKFold\n",
    "\n",
    "# create cross validation iterator\n",
    "cv = StratifiedKFold(n_splits=5, random_state=42)\n",
    "\n",
    "#Get only 1 stratified 80/20 split \n",
    "cvSplits = cv.split(X,y)\n",
    "train, test = next(cvSplits)\n",
    "\n",
    "# Train and test on the one fold\n",
    "strand = StrandClassifierV2(kmer_length=31, minhash_length=400, random_state=42)\n",
    "strand.fit(X[train],y[train])\n",
    "yhat = strand.predict(X[test])"
   ]
  },
  {
   "cell_type": "code",
   "execution_count": 20,
   "metadata": {},
   "outputs": [
    {
     "name": "stdout",
     "output_type": "stream",
     "text": [
      "                  precision    recall  f1-score   support\n",
      "\n",
      "    g__pelosinus      0.375     1.000     0.545        27\n",
      "  g__rhodobacter      1.000     1.000     1.000         4\n",
      "g__streptococcus      1.000     0.378     0.548        45\n",
      "       g__vibrio      1.000     1.000     1.000         4\n",
      "  g__xanthomonas      1.000     0.452     0.622        31\n",
      "\n",
      "        accuracy                          0.595       111\n",
      "       macro avg      0.875     0.766     0.743       111\n",
      "    weighted avg      0.848     0.595     0.601       111\n",
      "\n"
     ]
    },
    {
     "data": {
      "image/png": "[encoded data removed]",
      "text/plain": [
       "<Figure size 432x288 with 1 Axes>"
      ]
     },
     "metadata": {
      "needs_background": "light"
     },
     "output_type": "display_data"
    }
   ],
   "source": [
    "# Report our results\n",
    "print (classification_report(y[test], yhat, digits = 3))\n",
    "                \n",
    "plot_class_acc(y[test], yhat, title = \"Strand\", class_list ='')# ', '.join(map(str, strand.classes_)))"
   ]
  },
  {
   "cell_type": "markdown",
   "metadata": {},
   "source": [
    "## Test at kmer_length=31, minhash_length=500"
   ]
  },
  {
   "cell_type": "code",
   "execution_count": 21,
   "metadata": {},
   "outputs": [
    {
     "name": "stdout",
     "output_type": "stream",
     "text": [
      "Wall time: 28.2 s\n"
     ]
    }
   ],
   "source": [
    "%%time\n",
    "from sklearn.model_selection import StratifiedKFold\n",
    "\n",
    "# create cross validation iterator\n",
    "cv = StratifiedKFold(n_splits=5, random_state=42)\n",
    "\n",
    "#Get only 1 stratified 80/20 split \n",
    "cvSplits = cv.split(X,y)\n",
    "train, test = next(cvSplits)\n",
    "\n",
    "# Train and test on the one fold\n",
    "strand = StrandClassifierV2(kmer_length=31, minhash_length=500, random_state=42)\n",
    "strand.fit(X[train],y[train])\n",
    "yhat = strand.predict(X[test])"
   ]
  },
  {
   "cell_type": "code",
   "execution_count": 22,
   "metadata": {},
   "outputs": [
    {
     "name": "stdout",
     "output_type": "stream",
     "text": [
      "                  precision    recall  f1-score   support\n",
      "\n",
      "    g__pelosinus      0.380     1.000     0.551        27\n",
      "  g__rhodobacter      1.000     1.000     1.000         4\n",
      "g__streptococcus      1.000     0.400     0.571        45\n",
      "       g__vibrio      1.000     1.000     1.000         4\n",
      "  g__xanthomonas      1.000     0.452     0.622        31\n",
      "\n",
      "        accuracy                          0.604       111\n",
      "       macro avg      0.876     0.770     0.749       111\n",
      "    weighted avg      0.849     0.604     0.612       111\n",
      "\n"
     ]
    },
    {
     "data": {
      "image/png": "[encoded data removed]",
      "text/plain": [
       "<Figure size 432x288 with 1 Axes>"
      ]
     },
     "metadata": {
      "needs_background": "light"
     },
     "output_type": "display_data"
    }
   ],
   "source": [
    "# Report our results\n",
    "print (classification_report(y[test], yhat, digits = 3))\n",
    "                \n",
    "plot_class_acc(y[test], yhat, title = \"Strand\", class_list ='')# ', '.join(map(str, strand.classes_)))"
   ]
  },
  {
   "cell_type": "markdown",
   "metadata": {},
   "source": [
    "## Test at kmer_length=31, minhash_length=1000"
   ]
  },
  {
   "cell_type": "code",
   "execution_count": 23,
   "metadata": {},
   "outputs": [
    {
     "name": "stdout",
     "output_type": "stream",
     "text": [
      "Wall time: 28.3 s\n"
     ]
    }
   ],
   "source": [
    "%%time\n",
    "from sklearn.model_selection import StratifiedKFold\n",
    "\n",
    "# create cross validation iterator\n",
    "cv = StratifiedKFold(n_splits=5, random_state=42)\n",
    "\n",
    "#Get only 1 stratified 80/20 split \n",
    "cvSplits = cv.split(X,y)\n",
    "train, test = next(cvSplits)\n",
    "\n",
    "# Train and test on the one fold\n",
    "strand = StrandClassifierV2(kmer_length=31, minhash_length=1000, random_state=42)\n",
    "strand.fit(X[train],y[train])\n",
    "yhat = strand.predict(X[test])"
   ]
  },
  {
   "cell_type": "code",
   "execution_count": 24,
   "metadata": {},
   "outputs": [
    {
     "name": "stdout",
     "output_type": "stream",
     "text": [
      "                  precision    recall  f1-score   support\n",
      "\n",
      "    g__pelosinus      0.458     1.000     0.628        27\n",
      "  g__rhodobacter      1.000     1.000     1.000         4\n",
      "g__streptococcus      1.000     0.556     0.714        45\n",
      "       g__vibrio      1.000     1.000     1.000         4\n",
      "  g__xanthomonas      1.000     0.613     0.760        31\n",
      "\n",
      "        accuracy                          0.712       111\n",
      "       macro avg      0.892     0.834     0.820       111\n",
      "    weighted avg      0.868     0.712     0.727       111\n",
      "\n"
     ]
    },
    {
     "data": {
      "image/png": "[encoded data removed]",
      "text/plain": [
       "<Figure size 432x288 with 1 Axes>"
      ]
     },
     "metadata": {
      "needs_background": "light"
     },
     "output_type": "display_data"
    }
   ],
   "source": [
    "# Report our results\n",
    "print (classification_report(y[test], yhat, digits = 3))\n",
    "                \n",
    "plot_class_acc(y[test], yhat, title = \"Strand\", class_list ='')# ', '.join(map(str, strand.classes_)))"
   ]
  },
  {
   "cell_type": "markdown",
   "metadata": {},
   "source": [
    "## Test at kmer_length=31, minhash_length=2000"
   ]
  },
  {
   "cell_type": "code",
   "execution_count": 25,
   "metadata": {},
   "outputs": [
    {
     "name": "stdout",
     "output_type": "stream",
     "text": [
      "Wall time: 29.3 s\n"
     ]
    }
   ],
   "source": [
    "%%time\n",
    "from sklearn.model_selection import StratifiedKFold\n",
    "\n",
    "# create cross validation iterator\n",
    "cv = StratifiedKFold(n_splits=5, random_state=42)\n",
    "\n",
    "#Get only 1 stratified 80/20 split \n",
    "cvSplits = cv.split(X,y)\n",
    "train, test = next(cvSplits)\n",
    "\n",
    "# Train and test on the one fold\n",
    "strand = StrandClassifierV2(kmer_length=31, minhash_length=2000, random_state=42)\n",
    "strand.fit(X[train],y[train])\n",
    "yhat = strand.predict(X[test])"
   ]
  },
  {
   "cell_type": "code",
   "execution_count": 26,
   "metadata": {},
   "outputs": [
    {
     "name": "stdout",
     "output_type": "stream",
     "text": [
      "                  precision    recall  f1-score   support\n",
      "\n",
      "    g__pelosinus      0.529     1.000     0.692        27\n",
      "  g__rhodobacter      1.000     1.000     1.000         4\n",
      "g__streptococcus      1.000     0.711     0.831        45\n",
      "       g__vibrio      1.000     1.000     1.000         4\n",
      "  g__xanthomonas      1.000     0.645     0.784        31\n",
      "\n",
      "        accuracy                          0.784       111\n",
      "       macro avg      0.906     0.871     0.862       111\n",
      "    weighted avg      0.886     0.784     0.796       111\n",
      "\n"
     ]
    },
    {
     "data": {
      "image/png": "[encoded data removed]",
      "text/plain": [
       "<Figure size 432x288 with 1 Axes>"
      ]
     },
     "metadata": {
      "needs_background": "light"
     },
     "output_type": "display_data"
    }
   ],
   "source": [
    "# Report our results\n",
    "print (classification_report(y[test], yhat, digits = 3))\n",
    "                \n",
    "plot_class_acc(y[test], yhat, title = \"Strand\", class_list ='')# ', '.join(map(str, strand.classes_)))"
   ]
  },
  {
   "cell_type": "markdown",
   "metadata": {},
   "source": [
    "## Test at kmer_length=31, minhash_length=4000"
   ]
  },
  {
   "cell_type": "code",
   "execution_count": 30,
   "metadata": {},
   "outputs": [
    {
     "name": "stdout",
     "output_type": "stream",
     "text": [
      "Wall time: 22.3 s\n"
     ]
    },
    {
     "data": {
      "text/plain": [
       "StrandClassifierV2(kmer_length=31, minhash_length=4000, random_state=42)"
      ]
     },
     "execution_count": 30,
     "metadata": {},
     "output_type": "execute_result"
    }
   ],
   "source": [
    "%%time\n",
    "from sklearn.model_selection import StratifiedKFold\n",
    "\n",
    "# create cross validation iterator\n",
    "cv = StratifiedKFold(n_splits=5, random_state=42)\n",
    "\n",
    "#Get only 1 stratified 80/20 split \n",
    "cvSplits = cv.split(X,y)\n",
    "train, test = next(cvSplits)\n",
    "\n",
    "# Train and test on the one fold\n",
    "strand = StrandClassifierV2(kmer_length=31, minhash_length=4000, random_state=42)\n",
    "strand.fit(X[train],y[train])"
   ]
  },
  {
   "cell_type": "code",
   "execution_count": 32,
   "metadata": {},
   "outputs": [
    {
     "name": "stdout",
     "output_type": "stream",
     "text": [
      "                  precision    recall  f1-score   support\n",
      "\n",
      "    g__pelosinus      0.529     1.000     0.692        27\n",
      "  g__rhodobacter      1.000     1.000     1.000         4\n",
      "g__streptococcus      1.000     0.711     0.831        45\n",
      "       g__vibrio      1.000     1.000     1.000         4\n",
      "  g__xanthomonas      1.000     0.645     0.784        31\n",
      "\n",
      "        accuracy                          0.784       111\n",
      "       macro avg      0.906     0.871     0.862       111\n",
      "    weighted avg      0.886     0.784     0.796       111\n",
      "\n"
     ]
    },
    {
     "data": {
      "image/png": "[encoded data removed]",
      "text/plain": [
       "<Figure size 432x288 with 1 Axes>"
      ]
     },
     "metadata": {
      "needs_background": "light"
     },
     "output_type": "display_data"
    }
   ],
   "source": [
    "# Report our results\n",
    "print (classification_report(y[test], yhat, digits = 3))\n",
    "                \n",
    "plot_class_acc(y[test], yhat, title = \"Strand\", class_list ='')# ', '.join(map(str, strand.classes_)))"
   ]
  },
  {
   "cell_type": "markdown",
   "metadata": {},
   "source": [
    "## Test at kmer_length=60, minhash_length=100,"
   ]
  },
  {
   "cell_type": "code",
   "execution_count": 18,
   "metadata": {},
   "outputs": [
    {
     "name": "stdout",
     "output_type": "stream",
     "text": [
      "Wall time: 29.2 s\n"
     ]
    }
   ],
   "source": [
    "%%time\n",
    "from sklearn.model_selection import StratifiedKFold\n",
    "\n",
    "# create cross validation iterator\n",
    "cv = StratifiedKFold(n_splits=5, random_state=42)\n",
    "\n",
    "#Get only 1 stratified 80/20 split \n",
    "cvSplits = cv.split(X,y)\n",
    "train, test = next(cvSplits)\n",
    "\n",
    "# Train and test on the one fold\n",
    "strand = StrandClassifierV2(kmer_length=60, minhash_length=100, random_state=42)\n",
    "strand.fit(X[train],y[train])\n",
    "yhat = strand.predict(X[test])"
   ]
  },
  {
   "cell_type": "code",
   "execution_count": 19,
   "metadata": {},
   "outputs": [
    {
     "name": "stdout",
     "output_type": "stream",
     "text": [
      "                  precision    recall  f1-score   support\n",
      "\n",
      "    g__pelosinus      0.287     1.000     0.446        27\n",
      "  g__rhodobacter      1.000     1.000     1.000         4\n",
      "g__streptococcus      1.000     0.022     0.043        45\n",
      "       g__vibrio      1.000     1.000     1.000         4\n",
      "  g__xanthomonas      1.000     0.258     0.410        31\n",
      "\n",
      "        accuracy                          0.396       111\n",
      "       macro avg      0.857     0.656     0.580       111\n",
      "    weighted avg      0.827     0.396     0.313       111\n",
      "\n"
     ]
    },
    {
     "data": {
      "image/png": "[encoded data removed]",
      "text/plain": [
       "<Figure size 432x288 with 1 Axes>"
      ]
     },
     "metadata": {
      "needs_background": "light"
     },
     "output_type": "display_data"
    }
   ],
   "source": [
    "# Report our results\n",
    "print (classification_report(y[test], yhat, digits = 3))\n",
    "                \n",
    "plot_class_acc(y[test], yhat, title = \"Strand\", class_list ='')# ', '.join(map(str, strand.classes_)))"
   ]
  },
  {
   "cell_type": "markdown",
   "metadata": {},
   "source": [
    "## Parallel 10-Fold CV at kmer_length=31, minhash_length=2000,"
   ]
  },
  {
   "cell_type": "code",
   "execution_count": 33,
   "metadata": {},
   "outputs": [
    {
     "name": "stdout",
     "output_type": "stream",
     "text": [
      "Wall time: 1min 36s\n"
     ]
    }
   ],
   "source": [
    "%%time\n",
    "from sklearn.model_selection import StratifiedKFold\n",
    "from sklearn.model_selection import cross_val_predict\n",
    "\n",
    "# create cross validation iterator\n",
    "cv = StratifiedKFold(n_splits=10, random_state=42)\n",
    "\n",
    "# Create our Strand sequence classifier\n",
    "strand = StrandClassifierV2(kmer_length=31, minhash_length=2000, random_state=42)\n",
    "\n",
    "#run in parallel on all available cores\n",
    "yhat = cross_val_predict(strand, X, y, cv=cv, n_jobs=-1)"
   ]
  },
  {
   "cell_type": "code",
   "execution_count": 34,
   "metadata": {},
   "outputs": [
    {
     "name": "stdout",
     "output_type": "stream",
     "text": [
      "                  precision    recall  f1-score   support\n",
      "\n",
      "    g__pelosinus      0.630     0.978     0.766       134\n",
      "  g__rhodobacter      1.000     0.944     0.971        18\n",
      "g__streptococcus      0.990     0.919     0.953       221\n",
      "       g__vibrio      0.941     0.941     0.941        17\n",
      "  g__xanthomonas      1.000     0.623     0.767       151\n",
      "\n",
      "        accuracy                          0.852       541\n",
      "       macro avg      0.912     0.881     0.880       541\n",
      "    weighted avg      0.902     0.852     0.855       541\n",
      "\n"
     ]
    },
    {
     "data": {
      "image/png": "[encoded data removed]",
      "text/plain": [
       "<Figure size 432x288 with 1 Axes>"
      ]
     },
     "metadata": {
      "needs_background": "light"
     },
     "output_type": "display_data"
    }
   ],
   "source": [
    "# Report our results\n",
    "print (classification_report(y, yhat, digits = 3))\n",
    "                \n",
    "plot_class_acc(y, yhat, title = \"Strand\", class_list = '')"
   ]
  },
  {
   "cell_type": "code",
   "execution_count": null,
   "metadata": {},
   "outputs": [],
   "source": []
  }
 ],
 "metadata": {
  "kernelspec": {
   "display_name": "Python 3",
   "language": "python",
   "name": "python3"
  },
  "language_info": {
   "codemirror_mode": {
    "name": "ipython",
    "version": 3
   },
   "file_extension": ".py",
   "mimetype": "text/x-python",
   "name": "python",
   "nbconvert_exporter": "python",
   "pygments_lexer": "ipython3",
   "version": "3.7.1"
  }
 },
 "nbformat": 4,
 "nbformat_minor": 2
}
